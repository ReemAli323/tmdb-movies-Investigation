{
 "cells": [
  {
   "cell_type": "markdown",
   "metadata": {},
   "source": [
    "# Introduction:"
   ]
  },
  {
   "cell_type": "markdown",
   "metadata": {},
   "source": [
    "### Dataset:"
   ]
  },
  {
   "cell_type": "markdown",
   "metadata": {},
   "source": [
    " I chose for analysis: TMDB movies This data set contains information about 10,000 movies collected from The Movie Database (TMDb)."
   ]
  },
  {
   "cell_type": "markdown",
   "metadata": {},
   "source": [
    "# Questions:"
   ]
  },
  {
   "cell_type": "markdown",
   "metadata": {},
   "source": [
    "1. What is the most popular genre for movie releases?\n",
    "\n",
    "2. What are the months and years with the most movie releases?\n",
    "\n",
    "3. Which Month has the Highest Average Revenue?\n",
    "\n",
    "4. What movie made the most and least revenue?\n",
    "\n",
    "5. Which movie has the highest and lowest budget?\n",
    "\n",
    "6. Which Movies had the longest and the shortest runtime values?\n",
    "\n",
    "7. Is Revenue Affected by Popularity, Vote Average, and Runtime?"
   ]
  },
  {
   "cell_type": "code",
   "execution_count": 1,
   "metadata": {},
   "outputs": [],
   "source": [
    "#import all the necessary libraries.\n",
    "import pandas as pd\n",
    "import numpy as np\n",
    "import matplotlib.pyplot as plt\n",
    "# Magic words use to show plots within the document\n",
    "%matplotlib inline"
   ]
  },
  {
   "cell_type": "code",
   "execution_count": 2,
   "metadata": {},
   "outputs": [
    {
     "data": {
      "text/html": [
       "<div>\n",
       "<style scoped>\n",
       "    .dataframe tbody tr th:only-of-type {\n",
       "        vertical-align: middle;\n",
       "    }\n",
       "\n",
       "    .dataframe tbody tr th {\n",
       "        vertical-align: top;\n",
       "    }\n",
       "\n",
       "    .dataframe thead th {\n",
       "        text-align: right;\n",
       "    }\n",
       "</style>\n",
       "<table border=\"1\" class=\"dataframe\">\n",
       "  <thead>\n",
       "    <tr style=\"text-align: right;\">\n",
       "      <th></th>\n",
       "      <th>id</th>\n",
       "      <th>imdb_id</th>\n",
       "      <th>popularity</th>\n",
       "      <th>budget</th>\n",
       "      <th>revenue</th>\n",
       "      <th>original_title</th>\n",
       "      <th>cast</th>\n",
       "      <th>homepage</th>\n",
       "      <th>director</th>\n",
       "      <th>tagline</th>\n",
       "      <th>...</th>\n",
       "      <th>overview</th>\n",
       "      <th>runtime</th>\n",
       "      <th>genres</th>\n",
       "      <th>production_companies</th>\n",
       "      <th>release_date</th>\n",
       "      <th>vote_count</th>\n",
       "      <th>vote_average</th>\n",
       "      <th>release_year</th>\n",
       "      <th>budget_adj</th>\n",
       "      <th>revenue_adj</th>\n",
       "    </tr>\n",
       "  </thead>\n",
       "  <tbody>\n",
       "    <tr>\n",
       "      <th>0</th>\n",
       "      <td>135397</td>\n",
       "      <td>tt0369610</td>\n",
       "      <td>32.985763</td>\n",
       "      <td>150000000</td>\n",
       "      <td>1513528810</td>\n",
       "      <td>Jurassic World</td>\n",
       "      <td>Chris Pratt|Bryce Dallas Howard|Irrfan Khan|Vi...</td>\n",
       "      <td>http://www.jurassicworld.com/</td>\n",
       "      <td>Colin Trevorrow</td>\n",
       "      <td>The park is open.</td>\n",
       "      <td>...</td>\n",
       "      <td>Twenty-two years after the events of Jurassic ...</td>\n",
       "      <td>124</td>\n",
       "      <td>Action|Adventure|Science Fiction|Thriller</td>\n",
       "      <td>Universal Studios|Amblin Entertainment|Legenda...</td>\n",
       "      <td>6/9/15</td>\n",
       "      <td>5562</td>\n",
       "      <td>6.5</td>\n",
       "      <td>2015</td>\n",
       "      <td>1.379999e+08</td>\n",
       "      <td>1.392446e+09</td>\n",
       "    </tr>\n",
       "    <tr>\n",
       "      <th>1</th>\n",
       "      <td>76341</td>\n",
       "      <td>tt1392190</td>\n",
       "      <td>28.419936</td>\n",
       "      <td>150000000</td>\n",
       "      <td>378436354</td>\n",
       "      <td>Mad Max: Fury Road</td>\n",
       "      <td>Tom Hardy|Charlize Theron|Hugh Keays-Byrne|Nic...</td>\n",
       "      <td>http://www.madmaxmovie.com/</td>\n",
       "      <td>George Miller</td>\n",
       "      <td>What a Lovely Day.</td>\n",
       "      <td>...</td>\n",
       "      <td>An apocalyptic story set in the furthest reach...</td>\n",
       "      <td>120</td>\n",
       "      <td>Action|Adventure|Science Fiction|Thriller</td>\n",
       "      <td>Village Roadshow Pictures|Kennedy Miller Produ...</td>\n",
       "      <td>5/13/15</td>\n",
       "      <td>6185</td>\n",
       "      <td>7.1</td>\n",
       "      <td>2015</td>\n",
       "      <td>1.379999e+08</td>\n",
       "      <td>3.481613e+08</td>\n",
       "    </tr>\n",
       "    <tr>\n",
       "      <th>2</th>\n",
       "      <td>262500</td>\n",
       "      <td>tt2908446</td>\n",
       "      <td>13.112507</td>\n",
       "      <td>110000000</td>\n",
       "      <td>295238201</td>\n",
       "      <td>Insurgent</td>\n",
       "      <td>Shailene Woodley|Theo James|Kate Winslet|Ansel...</td>\n",
       "      <td>http://www.thedivergentseries.movie/#insurgent</td>\n",
       "      <td>Robert Schwentke</td>\n",
       "      <td>One Choice Can Destroy You</td>\n",
       "      <td>...</td>\n",
       "      <td>Beatrice Prior must confront her inner demons ...</td>\n",
       "      <td>119</td>\n",
       "      <td>Adventure|Science Fiction|Thriller</td>\n",
       "      <td>Summit Entertainment|Mandeville Films|Red Wago...</td>\n",
       "      <td>3/18/15</td>\n",
       "      <td>2480</td>\n",
       "      <td>6.3</td>\n",
       "      <td>2015</td>\n",
       "      <td>1.012000e+08</td>\n",
       "      <td>2.716190e+08</td>\n",
       "    </tr>\n",
       "    <tr>\n",
       "      <th>3</th>\n",
       "      <td>140607</td>\n",
       "      <td>tt2488496</td>\n",
       "      <td>11.173104</td>\n",
       "      <td>200000000</td>\n",
       "      <td>2068178225</td>\n",
       "      <td>Star Wars: The Force Awakens</td>\n",
       "      <td>Harrison Ford|Mark Hamill|Carrie Fisher|Adam D...</td>\n",
       "      <td>http://www.starwars.com/films/star-wars-episod...</td>\n",
       "      <td>J.J. Abrams</td>\n",
       "      <td>Every generation has a story.</td>\n",
       "      <td>...</td>\n",
       "      <td>Thirty years after defeating the Galactic Empi...</td>\n",
       "      <td>136</td>\n",
       "      <td>Action|Adventure|Science Fiction|Fantasy</td>\n",
       "      <td>Lucasfilm|Truenorth Productions|Bad Robot</td>\n",
       "      <td>12/15/15</td>\n",
       "      <td>5292</td>\n",
       "      <td>7.5</td>\n",
       "      <td>2015</td>\n",
       "      <td>1.839999e+08</td>\n",
       "      <td>1.902723e+09</td>\n",
       "    </tr>\n",
       "    <tr>\n",
       "      <th>4</th>\n",
       "      <td>168259</td>\n",
       "      <td>tt2820852</td>\n",
       "      <td>9.335014</td>\n",
       "      <td>190000000</td>\n",
       "      <td>1506249360</td>\n",
       "      <td>Furious 7</td>\n",
       "      <td>Vin Diesel|Paul Walker|Jason Statham|Michelle ...</td>\n",
       "      <td>http://www.furious7.com/</td>\n",
       "      <td>James Wan</td>\n",
       "      <td>Vengeance Hits Home</td>\n",
       "      <td>...</td>\n",
       "      <td>Deckard Shaw seeks revenge against Dominic Tor...</td>\n",
       "      <td>137</td>\n",
       "      <td>Action|Crime|Thriller</td>\n",
       "      <td>Universal Pictures|Original Film|Media Rights ...</td>\n",
       "      <td>4/1/15</td>\n",
       "      <td>2947</td>\n",
       "      <td>7.3</td>\n",
       "      <td>2015</td>\n",
       "      <td>1.747999e+08</td>\n",
       "      <td>1.385749e+09</td>\n",
       "    </tr>\n",
       "  </tbody>\n",
       "</table>\n",
       "<p>5 rows × 21 columns</p>\n",
       "</div>"
      ],
      "text/plain": [
       "       id    imdb_id  popularity     budget     revenue  \\\n",
       "0  135397  tt0369610   32.985763  150000000  1513528810   \n",
       "1   76341  tt1392190   28.419936  150000000   378436354   \n",
       "2  262500  tt2908446   13.112507  110000000   295238201   \n",
       "3  140607  tt2488496   11.173104  200000000  2068178225   \n",
       "4  168259  tt2820852    9.335014  190000000  1506249360   \n",
       "\n",
       "                 original_title  \\\n",
       "0                Jurassic World   \n",
       "1            Mad Max: Fury Road   \n",
       "2                     Insurgent   \n",
       "3  Star Wars: The Force Awakens   \n",
       "4                     Furious 7   \n",
       "\n",
       "                                                cast  \\\n",
       "0  Chris Pratt|Bryce Dallas Howard|Irrfan Khan|Vi...   \n",
       "1  Tom Hardy|Charlize Theron|Hugh Keays-Byrne|Nic...   \n",
       "2  Shailene Woodley|Theo James|Kate Winslet|Ansel...   \n",
       "3  Harrison Ford|Mark Hamill|Carrie Fisher|Adam D...   \n",
       "4  Vin Diesel|Paul Walker|Jason Statham|Michelle ...   \n",
       "\n",
       "                                            homepage          director  \\\n",
       "0                      http://www.jurassicworld.com/   Colin Trevorrow   \n",
       "1                        http://www.madmaxmovie.com/     George Miller   \n",
       "2     http://www.thedivergentseries.movie/#insurgent  Robert Schwentke   \n",
       "3  http://www.starwars.com/films/star-wars-episod...       J.J. Abrams   \n",
       "4                           http://www.furious7.com/         James Wan   \n",
       "\n",
       "                         tagline  ...  \\\n",
       "0              The park is open.  ...   \n",
       "1             What a Lovely Day.  ...   \n",
       "2     One Choice Can Destroy You  ...   \n",
       "3  Every generation has a story.  ...   \n",
       "4            Vengeance Hits Home  ...   \n",
       "\n",
       "                                            overview runtime  \\\n",
       "0  Twenty-two years after the events of Jurassic ...     124   \n",
       "1  An apocalyptic story set in the furthest reach...     120   \n",
       "2  Beatrice Prior must confront her inner demons ...     119   \n",
       "3  Thirty years after defeating the Galactic Empi...     136   \n",
       "4  Deckard Shaw seeks revenge against Dominic Tor...     137   \n",
       "\n",
       "                                      genres  \\\n",
       "0  Action|Adventure|Science Fiction|Thriller   \n",
       "1  Action|Adventure|Science Fiction|Thriller   \n",
       "2         Adventure|Science Fiction|Thriller   \n",
       "3   Action|Adventure|Science Fiction|Fantasy   \n",
       "4                      Action|Crime|Thriller   \n",
       "\n",
       "                                production_companies release_date vote_count  \\\n",
       "0  Universal Studios|Amblin Entertainment|Legenda...       6/9/15       5562   \n",
       "1  Village Roadshow Pictures|Kennedy Miller Produ...      5/13/15       6185   \n",
       "2  Summit Entertainment|Mandeville Films|Red Wago...      3/18/15       2480   \n",
       "3          Lucasfilm|Truenorth Productions|Bad Robot     12/15/15       5292   \n",
       "4  Universal Pictures|Original Film|Media Rights ...       4/1/15       2947   \n",
       "\n",
       "   vote_average  release_year    budget_adj   revenue_adj  \n",
       "0           6.5          2015  1.379999e+08  1.392446e+09  \n",
       "1           7.1          2015  1.379999e+08  3.481613e+08  \n",
       "2           6.3          2015  1.012000e+08  2.716190e+08  \n",
       "3           7.5          2015  1.839999e+08  1.902723e+09  \n",
       "4           7.3          2015  1.747999e+08  1.385749e+09  \n",
       "\n",
       "[5 rows x 21 columns]"
      ]
     },
     "execution_count": 2,
     "metadata": {},
     "output_type": "execute_result"
    }
   ],
   "source": [
    "#Read the CSV File\n",
    "df = pd.read_csv(r'/Users/reem/Downloads/tmdb-movies.csv')\n",
    "df.head()"
   ]
  },
  {
   "cell_type": "markdown",
   "metadata": {},
   "source": [
    "# Data Wrangling and Cleaning:"
   ]
  },
  {
   "cell_type": "code",
   "execution_count": 3,
   "metadata": {},
   "outputs": [
    {
     "name": "stdout",
     "output_type": "stream",
     "text": [
      "<class 'pandas.core.frame.DataFrame'>\n",
      "RangeIndex: 10866 entries, 0 to 10865\n",
      "Data columns (total 21 columns):\n",
      " #   Column                Non-Null Count  Dtype  \n",
      "---  ------                --------------  -----  \n",
      " 0   id                    10866 non-null  int64  \n",
      " 1   imdb_id               10856 non-null  object \n",
      " 2   popularity            10866 non-null  float64\n",
      " 3   budget                10866 non-null  int64  \n",
      " 4   revenue               10866 non-null  int64  \n",
      " 5   original_title        10866 non-null  object \n",
      " 6   cast                  10790 non-null  object \n",
      " 7   homepage              2936 non-null   object \n",
      " 8   director              10822 non-null  object \n",
      " 9   tagline               8042 non-null   object \n",
      " 10  keywords              9373 non-null   object \n",
      " 11  overview              10862 non-null  object \n",
      " 12  runtime               10866 non-null  int64  \n",
      " 13  genres                10843 non-null  object \n",
      " 14  production_companies  9836 non-null   object \n",
      " 15  release_date          10866 non-null  object \n",
      " 16  vote_count            10866 non-null  int64  \n",
      " 17  vote_average          10866 non-null  float64\n",
      " 18  release_year          10866 non-null  int64  \n",
      " 19  budget_adj            10866 non-null  float64\n",
      " 20  revenue_adj           10866 non-null  float64\n",
      "dtypes: float64(4), int64(6), object(11)\n",
      "memory usage: 1.7+ MB\n"
     ]
    }
   ],
   "source": [
    "#The summary of the dataset:\n",
    "df.info()"
   ]
  },
  {
   "cell_type": "code",
   "execution_count": 4,
   "metadata": {},
   "outputs": [
    {
     "data": {
      "text/html": [
       "<div>\n",
       "<style scoped>\n",
       "    .dataframe tbody tr th:only-of-type {\n",
       "        vertical-align: middle;\n",
       "    }\n",
       "\n",
       "    .dataframe tbody tr th {\n",
       "        vertical-align: top;\n",
       "    }\n",
       "\n",
       "    .dataframe thead th {\n",
       "        text-align: right;\n",
       "    }\n",
       "</style>\n",
       "<table border=\"1\" class=\"dataframe\">\n",
       "  <thead>\n",
       "    <tr style=\"text-align: right;\">\n",
       "      <th></th>\n",
       "      <th>id</th>\n",
       "      <th>popularity</th>\n",
       "      <th>budget</th>\n",
       "      <th>revenue</th>\n",
       "      <th>runtime</th>\n",
       "      <th>vote_count</th>\n",
       "      <th>vote_average</th>\n",
       "      <th>release_year</th>\n",
       "      <th>budget_adj</th>\n",
       "      <th>revenue_adj</th>\n",
       "    </tr>\n",
       "  </thead>\n",
       "  <tbody>\n",
       "    <tr>\n",
       "      <th>count</th>\n",
       "      <td>10866.000000</td>\n",
       "      <td>10866.000000</td>\n",
       "      <td>1.086600e+04</td>\n",
       "      <td>1.086600e+04</td>\n",
       "      <td>10866.000000</td>\n",
       "      <td>10866.000000</td>\n",
       "      <td>10866.000000</td>\n",
       "      <td>10866.000000</td>\n",
       "      <td>1.086600e+04</td>\n",
       "      <td>1.086600e+04</td>\n",
       "    </tr>\n",
       "    <tr>\n",
       "      <th>mean</th>\n",
       "      <td>66064.177434</td>\n",
       "      <td>0.646441</td>\n",
       "      <td>1.462570e+07</td>\n",
       "      <td>3.982332e+07</td>\n",
       "      <td>102.070863</td>\n",
       "      <td>217.389748</td>\n",
       "      <td>5.974922</td>\n",
       "      <td>2001.322658</td>\n",
       "      <td>1.755104e+07</td>\n",
       "      <td>5.136436e+07</td>\n",
       "    </tr>\n",
       "    <tr>\n",
       "      <th>std</th>\n",
       "      <td>92130.136561</td>\n",
       "      <td>1.000185</td>\n",
       "      <td>3.091321e+07</td>\n",
       "      <td>1.170035e+08</td>\n",
       "      <td>31.381405</td>\n",
       "      <td>575.619058</td>\n",
       "      <td>0.935142</td>\n",
       "      <td>12.812941</td>\n",
       "      <td>3.430616e+07</td>\n",
       "      <td>1.446325e+08</td>\n",
       "    </tr>\n",
       "    <tr>\n",
       "      <th>min</th>\n",
       "      <td>5.000000</td>\n",
       "      <td>0.000065</td>\n",
       "      <td>0.000000e+00</td>\n",
       "      <td>0.000000e+00</td>\n",
       "      <td>0.000000</td>\n",
       "      <td>10.000000</td>\n",
       "      <td>1.500000</td>\n",
       "      <td>1960.000000</td>\n",
       "      <td>0.000000e+00</td>\n",
       "      <td>0.000000e+00</td>\n",
       "    </tr>\n",
       "    <tr>\n",
       "      <th>25%</th>\n",
       "      <td>10596.250000</td>\n",
       "      <td>0.207583</td>\n",
       "      <td>0.000000e+00</td>\n",
       "      <td>0.000000e+00</td>\n",
       "      <td>90.000000</td>\n",
       "      <td>17.000000</td>\n",
       "      <td>5.400000</td>\n",
       "      <td>1995.000000</td>\n",
       "      <td>0.000000e+00</td>\n",
       "      <td>0.000000e+00</td>\n",
       "    </tr>\n",
       "    <tr>\n",
       "      <th>50%</th>\n",
       "      <td>20669.000000</td>\n",
       "      <td>0.383856</td>\n",
       "      <td>0.000000e+00</td>\n",
       "      <td>0.000000e+00</td>\n",
       "      <td>99.000000</td>\n",
       "      <td>38.000000</td>\n",
       "      <td>6.000000</td>\n",
       "      <td>2006.000000</td>\n",
       "      <td>0.000000e+00</td>\n",
       "      <td>0.000000e+00</td>\n",
       "    </tr>\n",
       "    <tr>\n",
       "      <th>75%</th>\n",
       "      <td>75610.000000</td>\n",
       "      <td>0.713817</td>\n",
       "      <td>1.500000e+07</td>\n",
       "      <td>2.400000e+07</td>\n",
       "      <td>111.000000</td>\n",
       "      <td>145.750000</td>\n",
       "      <td>6.600000</td>\n",
       "      <td>2011.000000</td>\n",
       "      <td>2.085325e+07</td>\n",
       "      <td>3.369710e+07</td>\n",
       "    </tr>\n",
       "    <tr>\n",
       "      <th>max</th>\n",
       "      <td>417859.000000</td>\n",
       "      <td>32.985763</td>\n",
       "      <td>4.250000e+08</td>\n",
       "      <td>2.781506e+09</td>\n",
       "      <td>900.000000</td>\n",
       "      <td>9767.000000</td>\n",
       "      <td>9.200000</td>\n",
       "      <td>2015.000000</td>\n",
       "      <td>4.250000e+08</td>\n",
       "      <td>2.827124e+09</td>\n",
       "    </tr>\n",
       "  </tbody>\n",
       "</table>\n",
       "</div>"
      ],
      "text/plain": [
       "                  id    popularity        budget       revenue       runtime  \\\n",
       "count   10866.000000  10866.000000  1.086600e+04  1.086600e+04  10866.000000   \n",
       "mean    66064.177434      0.646441  1.462570e+07  3.982332e+07    102.070863   \n",
       "std     92130.136561      1.000185  3.091321e+07  1.170035e+08     31.381405   \n",
       "min         5.000000      0.000065  0.000000e+00  0.000000e+00      0.000000   \n",
       "25%     10596.250000      0.207583  0.000000e+00  0.000000e+00     90.000000   \n",
       "50%     20669.000000      0.383856  0.000000e+00  0.000000e+00     99.000000   \n",
       "75%     75610.000000      0.713817  1.500000e+07  2.400000e+07    111.000000   \n",
       "max    417859.000000     32.985763  4.250000e+08  2.781506e+09    900.000000   \n",
       "\n",
       "         vote_count  vote_average  release_year    budget_adj   revenue_adj  \n",
       "count  10866.000000  10866.000000  10866.000000  1.086600e+04  1.086600e+04  \n",
       "mean     217.389748      5.974922   2001.322658  1.755104e+07  5.136436e+07  \n",
       "std      575.619058      0.935142     12.812941  3.430616e+07  1.446325e+08  \n",
       "min       10.000000      1.500000   1960.000000  0.000000e+00  0.000000e+00  \n",
       "25%       17.000000      5.400000   1995.000000  0.000000e+00  0.000000e+00  \n",
       "50%       38.000000      6.000000   2006.000000  0.000000e+00  0.000000e+00  \n",
       "75%      145.750000      6.600000   2011.000000  2.085325e+07  3.369710e+07  \n",
       "max     9767.000000      9.200000   2015.000000  4.250000e+08  2.827124e+09  "
      ]
     },
     "execution_count": 4,
     "metadata": {},
     "output_type": "execute_result"
    }
   ],
   "source": [
    "#statistics summary of the dataset:\n",
    "df.describe()"
   ]
  },
  {
   "cell_type": "code",
   "execution_count": 5,
   "metadata": {},
   "outputs": [
    {
     "data": {
      "text/plain": [
       "(10866, 21)"
      ]
     },
     "execution_count": 5,
     "metadata": {},
     "output_type": "execute_result"
    }
   ],
   "source": [
    "# check the number of (rows, columns):\n",
    "df.shape"
   ]
  },
  {
   "cell_type": "code",
   "execution_count": 6,
   "metadata": {},
   "outputs": [],
   "source": [
    "#drop some columns do not need.\n",
    "df=df.drop(['cast', 'homepage', 'tagline', 'keywords', 'overview', 'imdb_id','budget_adj','revenue_adj','production_companies'], axis=1)"
   ]
  },
  {
   "cell_type": "code",
   "execution_count": 7,
   "metadata": {},
   "outputs": [
    {
     "data": {
      "text/plain": [
       "id                 0\n",
       "popularity         0\n",
       "budget             0\n",
       "revenue            0\n",
       "original_title     0\n",
       "director          44\n",
       "runtime            0\n",
       "genres            23\n",
       "release_date       0\n",
       "vote_count         0\n",
       "vote_average       0\n",
       "release_year       0\n",
       "dtype: int64"
      ]
     },
     "execution_count": 7,
     "metadata": {},
     "output_type": "execute_result"
    }
   ],
   "source": [
    "#the dataset contains null value\n",
    "#to find out the null value:\n",
    "df.isna().sum()"
   ]
  },
  {
   "cell_type": "code",
   "execution_count": 8,
   "metadata": {},
   "outputs": [
    {
     "data": {
      "text/plain": [
       "id                0\n",
       "popularity        0\n",
       "budget            0\n",
       "revenue           0\n",
       "original_title    0\n",
       "director          0\n",
       "runtime           0\n",
       "genres            0\n",
       "release_date      0\n",
       "vote_count        0\n",
       "vote_average      0\n",
       "release_year      0\n",
       "dtype: int64"
      ]
     },
     "execution_count": 8,
     "metadata": {},
     "output_type": "execute_result"
    }
   ],
   "source": [
    "#dropping the null values\n",
    "df.dropna(inplace=True)\n",
    "df.isna().sum()\n"
   ]
  },
  {
   "cell_type": "code",
   "execution_count": 9,
   "metadata": {},
   "outputs": [
    {
     "data": {
      "text/plain": [
       "1"
      ]
     },
     "execution_count": 9,
     "metadata": {},
     "output_type": "execute_result"
    }
   ],
   "source": [
    "#check the duplicates \n",
    "sum(df.duplicated())"
   ]
  },
  {
   "cell_type": "code",
   "execution_count": 10,
   "metadata": {},
   "outputs": [],
   "source": [
    "#drop duplicates rows:\n",
    "df.drop_duplicates(inplace=True)"
   ]
  },
  {
   "cell_type": "code",
   "execution_count": 11,
   "metadata": {},
   "outputs": [],
   "source": [
    "#release_date variable should be of the form datetime so will change format into Datetime Format\n",
    "df['release_date'] = pd.to_datetime(df['release_date'])"
   ]
  },
  {
   "cell_type": "code",
   "execution_count": 12,
   "metadata": {},
   "outputs": [],
   "source": [
    "#There are 0 values in columns budget and revenue so replace 0 values with the mean in both columns.\n",
    "df['budget'] = df['budget'].replace(0,df['budget'].mean())\n",
    "\n",
    "df['revenue'] = df['revenue'].replace(0,df['revenue'].mean())"
   ]
  },
  {
   "cell_type": "code",
   "execution_count": 13,
   "metadata": {},
   "outputs": [
    {
     "data": {
      "text/plain": [
       "id                28\n",
       "popularity        28\n",
       "budget            28\n",
       "revenue           28\n",
       "original_title    28\n",
       "director          28\n",
       "runtime           28\n",
       "genres            28\n",
       "release_date      28\n",
       "vote_count        28\n",
       "vote_average      28\n",
       "release_year      28\n",
       "dtype: int64"
      ]
     },
     "execution_count": 13,
     "metadata": {},
     "output_type": "execute_result"
    }
   ],
   "source": [
    "#there are 0 values in columns runtime \n",
    "df.query('runtime == 0').count()"
   ]
  },
  {
   "cell_type": "code",
   "execution_count": 14,
   "metadata": {},
   "outputs": [],
   "source": [
    "#remove 0 from runtime\n",
    "df =df[df['runtime'] !=0]"
   ]
  },
  {
   "cell_type": "code",
   "execution_count": 15,
   "metadata": {},
   "outputs": [],
   "source": [
    "# add new column [profit]\n",
    "df['profit'] = df['revenue'] - df['budget']"
   ]
  },
  {
   "cell_type": "markdown",
   "metadata": {},
   "source": [
    "# Exploratory Data Analysis:"
   ]
  },
  {
   "cell_type": "markdown",
   "metadata": {},
   "source": [
    "### Question1: What is the most popular genre for movie releases?"
   ]
  },
  {
   "cell_type": "code",
   "execution_count": 16,
   "metadata": {},
   "outputs": [
    {
     "data": {
      "text/plain": [
       "Drama              4746\n",
       "Comedy             3772\n",
       "Thriller           2902\n",
       "Action             2376\n",
       "Romance            1703\n",
       "Horror             1628\n",
       "Adventure          1465\n",
       "Crime              1352\n",
       "Science Fiction    1222\n",
       "Family             1221\n",
       "Fantasy             911\n",
       "Mystery             807\n",
       "Animation           692\n",
       "Documentary         506\n",
       "Music               397\n",
       "History             332\n",
       "War                 270\n",
       "Foreign             184\n",
       "Western             164\n",
       "TV Movie            159\n",
       "dtype: int64"
      ]
     },
     "execution_count": 16,
     "metadata": {},
     "output_type": "execute_result"
    }
   ],
   "source": [
    "#first thing I will get total of the genres\n",
    "genres_count = pd.Series(df['genres'].str.cat(sep = '|').split('|')).value_counts(ascending = False)\n",
    "\n",
    "\n",
    "#Show the genres count\n",
    "genres_count"
   ]
  },
  {
   "cell_type": "code",
   "execution_count": 17,
   "metadata": {},
   "outputs": [
    {
     "data": {
      "text/plain": [
       "Text(0, 0.5, 'Number Of Movies')"
      ]
     },
     "execution_count": 17,
     "metadata": {},
     "output_type": "execute_result"
    },
    {
     "data": {
      "image/png": "[encoded data removed]",
      "text/plain": [
       "<Figure size 720x720 with 1 Axes>"
      ]
     },
     "metadata": {
      "needs_background": "light"
     },
     "output_type": "display_data"
    }
   ],
   "source": [
    "#Then plot a 'bar' plot using plot function for 'genre types vs number of movies'.\n",
    "cmap = plt.cm.tab10\n",
    "colors = cmap(np.arange(len(df)) % cmap.N)\n",
    "genres_count.plot(kind= 'bar',figsize = (10,10),fontsize=12,color=colors)\n",
    "#setup the title and the labels of the plot.\n",
    "plt.title(\"The most Popular Genre \",fontsize=16)\n",
    "plt.xlabel('Genres Types',fontsize=10)\n",
    "plt.ylabel(\"Number Of Movies\",fontsize= 10)"
   ]
  },
  {
   "cell_type": "markdown",
   "metadata": {},
   "source": [
    "###### Drama (4746) and Comedy (3772) appear to be the most popular genres, then Thrillers (2902)."
   ]
  },
  {
   "cell_type": "markdown",
   "metadata": {},
   "source": [
    "### Question2: What are the months and years with the most movie releases?"
   ]
  },
  {
   "cell_type": "code",
   "execution_count": 18,
   "metadata": {},
   "outputs": [
    {
     "data": {
      "text/plain": [
       "Text(0, 0.5, 'Number Of Movies')"
      ]
     },
     "execution_count": 18,
     "metadata": {},
     "output_type": "execute_result"
    },
    {
     "data": {
      "image/png": "[encoded data removed]",
      "text/plain": [
       "<Figure size 1152x360 with 1 Axes>"
      ]
     },
     "metadata": {},
     "output_type": "display_data"
    }
   ],
   "source": [
    "#First will count the highset of years\n",
    "#The number of movies each year \n",
    "plt.style.use(\"ggplot\")\n",
    "movies_year=df.groupby('release_year').count()['id'].plot(xticks = np.arange(1960,2015,3),figsize=(16,5))\n",
    "plt.title(' Years with the most movie releases',fontsize=16)\n",
    "plt.xlabel('Release Year',fontsize=12)\n",
    "plt.ylabel('Number Of Movies',fontsize=12)"
   ]
  },
  {
   "cell_type": "markdown",
   "metadata": {},
   "source": [
    "##### According to the plot, the year 2014 had the most releases."
   ]
  },
  {
   "cell_type": "code",
   "execution_count": 19,
   "metadata": {},
   "outputs": [
    {
     "data": {
      "text/plain": [
       "Text(0, 0.5, 'Number of movie releases')"
      ]
     },
     "execution_count": 19,
     "metadata": {},
     "output_type": "execute_result"
    },
    {
     "data": {
      "image/png": "[encoded data removed]",
      "text/plain": [
       "<Figure size 576x432 with 1 Axes>"
      ]
     },
     "metadata": {},
     "output_type": "display_data"
    }
   ],
   "source": [
    "## To see which months with the most movie releases\n",
    "#extract the month number from the release date.\n",
    "df['month'] = df['release_date'].dt.month_name()\n",
    "\n",
    "#compute months and plot the bar graph.\n",
    "cmap = plt.cm.tab10\n",
    "colors = cmap(np.arange(len(df)) % cmap.N)\n",
    "movies_month=df.groupby('month').count()['id'].sort_values().plot(kind='bar',fontsize = 11,figsize=(8,6),color=colors)\n",
    "\n",
    "#set up the labels and titles of the plot.\n",
    "plt.title('Months vs Number Of Movie Releases',fontsize = 15)\n",
    "plt.xlabel('Month',fontsize = 13)\n",
    "plt.ylabel('Number of movie releases',fontsize = 13)"
   ]
  },
  {
   "cell_type": "markdown",
   "metadata": {},
   "source": [
    "##### As the plot shows, September and October have the highest number of releases."
   ]
  },
  {
   "cell_type": "markdown",
   "metadata": {},
   "source": [
    "# Question3: Which Month has the Highest Average Revenue?"
   ]
  },
  {
   "cell_type": "code",
   "execution_count": 20,
   "metadata": {},
   "outputs": [],
   "source": [
    "# Create a DataFrame\n",
    "df1= pd.DataFrame(df, columns=[\"month\", \"revenue\"])\n",
    "\n",
    "#calculate the mean revenue of each month.\n",
    "mean_revenue  = df1.groupby('month').mean()"
   ]
  },
  {
   "cell_type": "code",
   "execution_count": 21,
   "metadata": {},
   "outputs": [
    {
     "data": {
      "text/plain": [
       "Text(0, 0.5, 'Average Revenue')"
      ]
     },
     "execution_count": 21,
     "metadata": {},
     "output_type": "execute_result"
    },
    {
     "data": {
      "image/png": "[encoded data removed]",
      "text/plain": [
       "<Figure size 720x720 with 1 Axes>"
      ]
     },
     "metadata": {},
     "output_type": "display_data"
    }
   ],
   "source": [
    "#make the bar plot\n",
    "plt.style.use(\"ggplot\")\n",
    "mean_revenue.plot(kind= 'bar',figsize = (10,10),fontsize=12)\n",
    "#set up the title and lables of the plot.\n",
    "plt.title('Average revenue by month',fontsize = 16)\n",
    "plt.xlabel('Month',fontsize = 10)\n",
    "plt.ylabel('Average Revenue',fontsize = 10)"
   ]
  },
  {
   "cell_type": "markdown",
   "metadata": {},
   "source": [
    "##### According to the plot, the month with the highest average revenue is June and May."
   ]
  },
  {
   "cell_type": "markdown",
   "metadata": {},
   "source": [
    "# Question4: What movie made the most and least revenue?"
   ]
  },
  {
   "cell_type": "code",
   "execution_count": 22,
   "metadata": {},
   "outputs": [
    {
     "data": {
      "text/html": [
       "<div>\n",
       "<style scoped>\n",
       "    .dataframe tbody tr th:only-of-type {\n",
       "        vertical-align: middle;\n",
       "    }\n",
       "\n",
       "    .dataframe tbody tr th {\n",
       "        vertical-align: top;\n",
       "    }\n",
       "\n",
       "    .dataframe thead th {\n",
       "        text-align: right;\n",
       "    }\n",
       "</style>\n",
       "<table border=\"1\" class=\"dataframe\">\n",
       "  <thead>\n",
       "    <tr style=\"text-align: right;\">\n",
       "      <th></th>\n",
       "      <th>id</th>\n",
       "      <th>popularity</th>\n",
       "      <th>budget</th>\n",
       "      <th>revenue</th>\n",
       "      <th>original_title</th>\n",
       "      <th>director</th>\n",
       "      <th>runtime</th>\n",
       "      <th>genres</th>\n",
       "      <th>release_date</th>\n",
       "      <th>vote_count</th>\n",
       "      <th>vote_average</th>\n",
       "      <th>release_year</th>\n",
       "      <th>profit</th>\n",
       "      <th>month</th>\n",
       "    </tr>\n",
       "  </thead>\n",
       "  <tbody>\n",
       "    <tr>\n",
       "      <th>1386</th>\n",
       "      <td>19995</td>\n",
       "      <td>9.432768</td>\n",
       "      <td>237000000.0</td>\n",
       "      <td>2.781506e+09</td>\n",
       "      <td>Avatar</td>\n",
       "      <td>James Cameron</td>\n",
       "      <td>162</td>\n",
       "      <td>Action|Adventure|Fantasy|Science Fiction</td>\n",
       "      <td>2009-12-10</td>\n",
       "      <td>8458</td>\n",
       "      <td>7.1</td>\n",
       "      <td>2009</td>\n",
       "      <td>2.544506e+09</td>\n",
       "      <td>December</td>\n",
       "    </tr>\n",
       "    <tr>\n",
       "      <th>3</th>\n",
       "      <td>140607</td>\n",
       "      <td>11.173104</td>\n",
       "      <td>200000000.0</td>\n",
       "      <td>2.068178e+09</td>\n",
       "      <td>Star Wars: The Force Awakens</td>\n",
       "      <td>J.J. Abrams</td>\n",
       "      <td>136</td>\n",
       "      <td>Action|Adventure|Science Fiction|Fantasy</td>\n",
       "      <td>2015-12-15</td>\n",
       "      <td>5292</td>\n",
       "      <td>7.5</td>\n",
       "      <td>2015</td>\n",
       "      <td>1.868178e+09</td>\n",
       "      <td>December</td>\n",
       "    </tr>\n",
       "    <tr>\n",
       "      <th>5231</th>\n",
       "      <td>597</td>\n",
       "      <td>4.355219</td>\n",
       "      <td>200000000.0</td>\n",
       "      <td>1.845034e+09</td>\n",
       "      <td>Titanic</td>\n",
       "      <td>James Cameron</td>\n",
       "      <td>194</td>\n",
       "      <td>Drama|Romance|Thriller</td>\n",
       "      <td>1997-11-18</td>\n",
       "      <td>4654</td>\n",
       "      <td>7.3</td>\n",
       "      <td>1997</td>\n",
       "      <td>1.645034e+09</td>\n",
       "      <td>November</td>\n",
       "    </tr>\n",
       "    <tr>\n",
       "      <th>4361</th>\n",
       "      <td>24428</td>\n",
       "      <td>7.637767</td>\n",
       "      <td>220000000.0</td>\n",
       "      <td>1.519558e+09</td>\n",
       "      <td>The Avengers</td>\n",
       "      <td>Joss Whedon</td>\n",
       "      <td>143</td>\n",
       "      <td>Science Fiction|Action|Adventure</td>\n",
       "      <td>2012-04-25</td>\n",
       "      <td>8903</td>\n",
       "      <td>7.3</td>\n",
       "      <td>2012</td>\n",
       "      <td>1.299558e+09</td>\n",
       "      <td>April</td>\n",
       "    </tr>\n",
       "    <tr>\n",
       "      <th>0</th>\n",
       "      <td>135397</td>\n",
       "      <td>32.985763</td>\n",
       "      <td>150000000.0</td>\n",
       "      <td>1.513529e+09</td>\n",
       "      <td>Jurassic World</td>\n",
       "      <td>Colin Trevorrow</td>\n",
       "      <td>124</td>\n",
       "      <td>Action|Adventure|Science Fiction|Thriller</td>\n",
       "      <td>2015-06-09</td>\n",
       "      <td>5562</td>\n",
       "      <td>6.5</td>\n",
       "      <td>2015</td>\n",
       "      <td>1.363529e+09</td>\n",
       "      <td>June</td>\n",
       "    </tr>\n",
       "  </tbody>\n",
       "</table>\n",
       "</div>"
      ],
      "text/plain": [
       "          id  popularity       budget       revenue  \\\n",
       "1386   19995    9.432768  237000000.0  2.781506e+09   \n",
       "3     140607   11.173104  200000000.0  2.068178e+09   \n",
       "5231     597    4.355219  200000000.0  1.845034e+09   \n",
       "4361   24428    7.637767  220000000.0  1.519558e+09   \n",
       "0     135397   32.985763  150000000.0  1.513529e+09   \n",
       "\n",
       "                    original_title         director  runtime  \\\n",
       "1386                        Avatar    James Cameron      162   \n",
       "3     Star Wars: The Force Awakens      J.J. Abrams      136   \n",
       "5231                       Titanic    James Cameron      194   \n",
       "4361                  The Avengers      Joss Whedon      143   \n",
       "0                   Jurassic World  Colin Trevorrow      124   \n",
       "\n",
       "                                         genres release_date  vote_count  \\\n",
       "1386   Action|Adventure|Fantasy|Science Fiction   2009-12-10        8458   \n",
       "3      Action|Adventure|Science Fiction|Fantasy   2015-12-15        5292   \n",
       "5231                     Drama|Romance|Thriller   1997-11-18        4654   \n",
       "4361           Science Fiction|Action|Adventure   2012-04-25        8903   \n",
       "0     Action|Adventure|Science Fiction|Thriller   2015-06-09        5562   \n",
       "\n",
       "      vote_average  release_year        profit     month  \n",
       "1386           7.1          2009  2.544506e+09  December  \n",
       "3              7.5          2015  1.868178e+09  December  \n",
       "5231           7.3          1997  1.645034e+09  November  \n",
       "4361           7.3          2012  1.299558e+09     April  \n",
       "0              6.5          2015  1.363529e+09      June  "
      ]
     },
     "execution_count": 22,
     "metadata": {},
     "output_type": "execute_result"
    }
   ],
   "source": [
    "# The highest revenue:\n",
    "df.nlargest(5, ['revenue'])"
   ]
  },
  {
   "cell_type": "code",
   "execution_count": 23,
   "metadata": {},
   "outputs": [
    {
     "data": {
      "text/plain": [
       "Text(0, 0.5, 'Title')"
      ]
     },
     "execution_count": 23,
     "metadata": {},
     "output_type": "execute_result"
    },
    {
     "data": {
      "image/png": "[encoded data removed]",
      "text/plain": [
       "<Figure size 720x360 with 1 Axes>"
      ]
     },
     "metadata": {},
     "output_type": "display_data"
    }
   ],
   "source": [
    "#plot to see the highest revenue \n",
    "cmap = plt.cm.tab10\n",
    "colors = cmap(np.arange(len(df)) % cmap.N)\n",
    "df.nlargest(5, 'revenue').plot.barh(y='revenue',x='original_title',color=colors, figsize=(10,5));\n",
    "plt.title(\"Revenue vs Movie Title\",fontsize = 15)\n",
    "plt.xlabel('Revenue',fontsize = 10)\n",
    "plt.ylabel('Title',fontsize = 10)"
   ]
  },
  {
   "cell_type": "code",
   "execution_count": 24,
   "metadata": {},
   "outputs": [
    {
     "data": {
      "text/html": [
       "<div>\n",
       "<style scoped>\n",
       "    .dataframe tbody tr th:only-of-type {\n",
       "        vertical-align: middle;\n",
       "    }\n",
       "\n",
       "    .dataframe tbody tr th {\n",
       "        vertical-align: top;\n",
       "    }\n",
       "\n",
       "    .dataframe thead th {\n",
       "        text-align: right;\n",
       "    }\n",
       "</style>\n",
       "<table border=\"1\" class=\"dataframe\">\n",
       "  <thead>\n",
       "    <tr style=\"text-align: right;\">\n",
       "      <th></th>\n",
       "      <th>id</th>\n",
       "      <th>popularity</th>\n",
       "      <th>budget</th>\n",
       "      <th>revenue</th>\n",
       "      <th>original_title</th>\n",
       "      <th>director</th>\n",
       "      <th>runtime</th>\n",
       "      <th>genres</th>\n",
       "      <th>release_date</th>\n",
       "      <th>vote_count</th>\n",
       "      <th>vote_average</th>\n",
       "      <th>release_year</th>\n",
       "      <th>profit</th>\n",
       "      <th>month</th>\n",
       "    </tr>\n",
       "  </thead>\n",
       "  <tbody>\n",
       "    <tr>\n",
       "      <th>5067</th>\n",
       "      <td>13537</td>\n",
       "      <td>0.462609</td>\n",
       "      <td>6.000000e+06</td>\n",
       "      <td>2.0</td>\n",
       "      <td>Shattered Glass</td>\n",
       "      <td>Billy Ray</td>\n",
       "      <td>94</td>\n",
       "      <td>Drama|History</td>\n",
       "      <td>2003-11-14</td>\n",
       "      <td>46</td>\n",
       "      <td>6.4</td>\n",
       "      <td>2003</td>\n",
       "      <td>-5.999998e+06</td>\n",
       "      <td>November</td>\n",
       "    </tr>\n",
       "    <tr>\n",
       "      <th>8142</th>\n",
       "      <td>2293</td>\n",
       "      <td>0.552091</td>\n",
       "      <td>6.000000e+06</td>\n",
       "      <td>2.0</td>\n",
       "      <td>Mallrats</td>\n",
       "      <td>Kevin Smith</td>\n",
       "      <td>94</td>\n",
       "      <td>Romance|Comedy</td>\n",
       "      <td>1995-10-20</td>\n",
       "      <td>201</td>\n",
       "      <td>6.8</td>\n",
       "      <td>1995</td>\n",
       "      <td>-5.999998e+06</td>\n",
       "      <td>October</td>\n",
       "    </tr>\n",
       "    <tr>\n",
       "      <th>1380</th>\n",
       "      <td>18196</td>\n",
       "      <td>0.097126</td>\n",
       "      <td>1.471114e+07</td>\n",
       "      <td>3.0</td>\n",
       "      <td>The Sentinel</td>\n",
       "      <td>Michael Winner</td>\n",
       "      <td>92</td>\n",
       "      <td>Horror|Drama|Mystery</td>\n",
       "      <td>1977-01-07</td>\n",
       "      <td>14</td>\n",
       "      <td>6.3</td>\n",
       "      <td>1977</td>\n",
       "      <td>-1.471113e+07</td>\n",
       "      <td>January</td>\n",
       "    </tr>\n",
       "    <tr>\n",
       "      <th>3239</th>\n",
       "      <td>14301</td>\n",
       "      <td>0.352054</td>\n",
       "      <td>2.000000e+05</td>\n",
       "      <td>3.0</td>\n",
       "      <td>Dr. Horrible's Sing-Along Blog</td>\n",
       "      <td>Joss Whedon</td>\n",
       "      <td>42</td>\n",
       "      <td>Adventure|Action|Comedy|Science Fiction|Music</td>\n",
       "      <td>2008-07-15</td>\n",
       "      <td>140</td>\n",
       "      <td>7.7</td>\n",
       "      <td>2008</td>\n",
       "      <td>-1.999970e+05</td>\n",
       "      <td>July</td>\n",
       "    </tr>\n",
       "    <tr>\n",
       "      <th>10607</th>\n",
       "      <td>12101</td>\n",
       "      <td>0.621476</td>\n",
       "      <td>1.471114e+07</td>\n",
       "      <td>3.0</td>\n",
       "      <td>Soylent Green</td>\n",
       "      <td>Richard Fleischer</td>\n",
       "      <td>97</td>\n",
       "      <td>Mystery|Science Fiction|Thriller</td>\n",
       "      <td>1973-04-19</td>\n",
       "      <td>124</td>\n",
       "      <td>6.6</td>\n",
       "      <td>1973</td>\n",
       "      <td>-1.471113e+07</td>\n",
       "      <td>April</td>\n",
       "    </tr>\n",
       "  </tbody>\n",
       "</table>\n",
       "</div>"
      ],
      "text/plain": [
       "          id  popularity        budget  revenue  \\\n",
       "5067   13537    0.462609  6.000000e+06      2.0   \n",
       "8142    2293    0.552091  6.000000e+06      2.0   \n",
       "1380   18196    0.097126  1.471114e+07      3.0   \n",
       "3239   14301    0.352054  2.000000e+05      3.0   \n",
       "10607  12101    0.621476  1.471114e+07      3.0   \n",
       "\n",
       "                       original_title           director  runtime  \\\n",
       "5067                  Shattered Glass          Billy Ray       94   \n",
       "8142                         Mallrats        Kevin Smith       94   \n",
       "1380                     The Sentinel     Michael Winner       92   \n",
       "3239   Dr. Horrible's Sing-Along Blog        Joss Whedon       42   \n",
       "10607                   Soylent Green  Richard Fleischer       97   \n",
       "\n",
       "                                              genres release_date  vote_count  \\\n",
       "5067                                   Drama|History   2003-11-14          46   \n",
       "8142                                  Romance|Comedy   1995-10-20         201   \n",
       "1380                            Horror|Drama|Mystery   1977-01-07          14   \n",
       "3239   Adventure|Action|Comedy|Science Fiction|Music   2008-07-15         140   \n",
       "10607               Mystery|Science Fiction|Thriller   1973-04-19         124   \n",
       "\n",
       "       vote_average  release_year        profit     month  \n",
       "5067            6.4          2003 -5.999998e+06  November  \n",
       "8142            6.8          1995 -5.999998e+06   October  \n",
       "1380            6.3          1977 -1.471113e+07   January  \n",
       "3239            7.7          2008 -1.999970e+05      July  \n",
       "10607           6.6          1973 -1.471113e+07     April  "
      ]
     },
     "execution_count": 24,
     "metadata": {},
     "output_type": "execute_result"
    }
   ],
   "source": [
    "#The smallest revenue:\n",
    "df.nsmallest(5, ['revenue'])"
   ]
  },
  {
   "cell_type": "code",
   "execution_count": 25,
   "metadata": {},
   "outputs": [
    {
     "data": {
      "text/plain": [
       "Text(0, 0.5, 'Title')"
      ]
     },
     "execution_count": 25,
     "metadata": {},
     "output_type": "execute_result"
    },
    {
     "data": {
      "image/png": "[encoded data removed]",
      "text/plain": [
       "<Figure size 720x360 with 1 Axes>"
      ]
     },
     "metadata": {},
     "output_type": "display_data"
    }
   ],
   "source": [
    "#plot to see the lowest revenue \n",
    "cmap = plt.cm.tab10\n",
    "colors = cmap(np.arange(len(df)) % cmap.N)\n",
    "df.nsmallest(5, 'revenue').plot.barh(y='revenue',x='original_title',color=colors, figsize=(10,5));\n",
    "plt.title(\"Revenue vs Movie Title\",fontsize = 15)\n",
    "plt.xlabel('Revenue',fontsize = 10)\n",
    "plt.ylabel('Title',fontsize = 10)"
   ]
  },
  {
   "cell_type": "markdown",
   "metadata": {},
   "source": [
    "##### The largest revenue earned of Avatar movie is shown in column 1386, 2.781506e+09 dollars.\n",
    "##### While the smallest revenue earned of Shattered Glass and  Mallrats moviea are shown in column 5067 and 8142 , 2 dollars"
   ]
  },
  {
   "cell_type": "markdown",
   "metadata": {},
   "source": [
    "# Question5: Which movie has the highest and lowest budget?"
   ]
  },
  {
   "cell_type": "code",
   "execution_count": 26,
   "metadata": {},
   "outputs": [
    {
     "data": {
      "text/html": [
       "<div>\n",
       "<style scoped>\n",
       "    .dataframe tbody tr th:only-of-type {\n",
       "        vertical-align: middle;\n",
       "    }\n",
       "\n",
       "    .dataframe tbody tr th {\n",
       "        vertical-align: top;\n",
       "    }\n",
       "\n",
       "    .dataframe thead th {\n",
       "        text-align: right;\n",
       "    }\n",
       "</style>\n",
       "<table border=\"1\" class=\"dataframe\">\n",
       "  <thead>\n",
       "    <tr style=\"text-align: right;\">\n",
       "      <th></th>\n",
       "      <th>id</th>\n",
       "      <th>popularity</th>\n",
       "      <th>budget</th>\n",
       "      <th>revenue</th>\n",
       "      <th>original_title</th>\n",
       "      <th>director</th>\n",
       "      <th>runtime</th>\n",
       "      <th>genres</th>\n",
       "      <th>release_date</th>\n",
       "      <th>vote_count</th>\n",
       "      <th>vote_average</th>\n",
       "      <th>release_year</th>\n",
       "      <th>profit</th>\n",
       "      <th>month</th>\n",
       "    </tr>\n",
       "  </thead>\n",
       "  <tbody>\n",
       "    <tr>\n",
       "      <th>2244</th>\n",
       "      <td>46528</td>\n",
       "      <td>0.250540</td>\n",
       "      <td>425000000.0</td>\n",
       "      <td>1.108757e+07</td>\n",
       "      <td>The Warrior's Way</td>\n",
       "      <td>Sngmoo Lee</td>\n",
       "      <td>100</td>\n",
       "      <td>Adventure|Fantasy|Action|Western|Thriller</td>\n",
       "      <td>2010-12-02</td>\n",
       "      <td>74</td>\n",
       "      <td>6.4</td>\n",
       "      <td>2010</td>\n",
       "      <td>-4.139124e+08</td>\n",
       "      <td>December</td>\n",
       "    </tr>\n",
       "    <tr>\n",
       "      <th>3375</th>\n",
       "      <td>1865</td>\n",
       "      <td>4.955130</td>\n",
       "      <td>380000000.0</td>\n",
       "      <td>1.021683e+09</td>\n",
       "      <td>Pirates of the Caribbean: On Stranger Tides</td>\n",
       "      <td>Rob Marshall</td>\n",
       "      <td>136</td>\n",
       "      <td>Adventure|Action|Fantasy</td>\n",
       "      <td>2011-05-11</td>\n",
       "      <td>3180</td>\n",
       "      <td>6.3</td>\n",
       "      <td>2011</td>\n",
       "      <td>6.416830e+08</td>\n",
       "      <td>May</td>\n",
       "    </tr>\n",
       "    <tr>\n",
       "      <th>7387</th>\n",
       "      <td>285</td>\n",
       "      <td>4.965391</td>\n",
       "      <td>300000000.0</td>\n",
       "      <td>9.610000e+08</td>\n",
       "      <td>Pirates of the Caribbean: At World's End</td>\n",
       "      <td>Gore Verbinski</td>\n",
       "      <td>169</td>\n",
       "      <td>Adventure|Fantasy|Action</td>\n",
       "      <td>2007-05-19</td>\n",
       "      <td>2626</td>\n",
       "      <td>6.8</td>\n",
       "      <td>2007</td>\n",
       "      <td>6.610000e+08</td>\n",
       "      <td>May</td>\n",
       "    </tr>\n",
       "    <tr>\n",
       "      <th>14</th>\n",
       "      <td>99861</td>\n",
       "      <td>5.944927</td>\n",
       "      <td>280000000.0</td>\n",
       "      <td>1.405036e+09</td>\n",
       "      <td>Avengers: Age of Ultron</td>\n",
       "      <td>Joss Whedon</td>\n",
       "      <td>141</td>\n",
       "      <td>Action|Adventure|Science Fiction</td>\n",
       "      <td>2015-04-22</td>\n",
       "      <td>4304</td>\n",
       "      <td>7.4</td>\n",
       "      <td>2015</td>\n",
       "      <td>1.125036e+09</td>\n",
       "      <td>April</td>\n",
       "    </tr>\n",
       "    <tr>\n",
       "      <th>6570</th>\n",
       "      <td>1452</td>\n",
       "      <td>1.957331</td>\n",
       "      <td>270000000.0</td>\n",
       "      <td>3.910812e+08</td>\n",
       "      <td>Superman Returns</td>\n",
       "      <td>Bryan Singer</td>\n",
       "      <td>154</td>\n",
       "      <td>Adventure|Fantasy|Action|Science Fiction</td>\n",
       "      <td>2006-06-28</td>\n",
       "      <td>834</td>\n",
       "      <td>5.3</td>\n",
       "      <td>2006</td>\n",
       "      <td>1.210812e+08</td>\n",
       "      <td>June</td>\n",
       "    </tr>\n",
       "  </tbody>\n",
       "</table>\n",
       "</div>"
      ],
      "text/plain": [
       "         id  popularity       budget       revenue  \\\n",
       "2244  46528    0.250540  425000000.0  1.108757e+07   \n",
       "3375   1865    4.955130  380000000.0  1.021683e+09   \n",
       "7387    285    4.965391  300000000.0  9.610000e+08   \n",
       "14    99861    5.944927  280000000.0  1.405036e+09   \n",
       "6570   1452    1.957331  270000000.0  3.910812e+08   \n",
       "\n",
       "                                   original_title        director  runtime  \\\n",
       "2244                            The Warrior's Way      Sngmoo Lee      100   \n",
       "3375  Pirates of the Caribbean: On Stranger Tides    Rob Marshall      136   \n",
       "7387     Pirates of the Caribbean: At World's End  Gore Verbinski      169   \n",
       "14                        Avengers: Age of Ultron     Joss Whedon      141   \n",
       "6570                             Superman Returns    Bryan Singer      154   \n",
       "\n",
       "                                         genres release_date  vote_count  \\\n",
       "2244  Adventure|Fantasy|Action|Western|Thriller   2010-12-02          74   \n",
       "3375                   Adventure|Action|Fantasy   2011-05-11        3180   \n",
       "7387                   Adventure|Fantasy|Action   2007-05-19        2626   \n",
       "14             Action|Adventure|Science Fiction   2015-04-22        4304   \n",
       "6570   Adventure|Fantasy|Action|Science Fiction   2006-06-28         834   \n",
       "\n",
       "      vote_average  release_year        profit     month  \n",
       "2244           6.4          2010 -4.139124e+08  December  \n",
       "3375           6.3          2011  6.416830e+08       May  \n",
       "7387           6.8          2007  6.610000e+08       May  \n",
       "14             7.4          2015  1.125036e+09     April  \n",
       "6570           5.3          2006  1.210812e+08      June  "
      ]
     },
     "execution_count": 26,
     "metadata": {},
     "output_type": "execute_result"
    }
   ],
   "source": [
    "#The largest budget:\n",
    "df.nlargest(5, ['budget'])"
   ]
  },
  {
   "cell_type": "code",
   "execution_count": 27,
   "metadata": {},
   "outputs": [
    {
     "data": {
      "text/plain": [
       "Text(0, 0.5, 'Title')"
      ]
     },
     "execution_count": 27,
     "metadata": {},
     "output_type": "execute_result"
    },
    {
     "data": {
      "image/png": "[encoded data removed]",
      "text/plain": [
       "<Figure size 720x360 with 1 Axes>"
      ]
     },
     "metadata": {},
     "output_type": "display_data"
    }
   ],
   "source": [
    "#plot to see the highest budget \n",
    "cmap = plt.cm.tab10\n",
    "colors = cmap(np.arange(len(df)) % cmap.N)\n",
    "df.nlargest(5, 'budget').plot.barh(y='budget',x='original_title',color=colors, figsize=(10,5));\n",
    "plt.title(\"budget vs Movie Title\",fontsize = 15)\n",
    "plt.xlabel('budget',fontsize = 10)\n",
    "plt.ylabel('Title',fontsize = 10)"
   ]
  },
  {
   "cell_type": "code",
   "execution_count": 28,
   "metadata": {},
   "outputs": [
    {
     "data": {
      "text/html": [
       "<div>\n",
       "<style scoped>\n",
       "    .dataframe tbody tr th:only-of-type {\n",
       "        vertical-align: middle;\n",
       "    }\n",
       "\n",
       "    .dataframe tbody tr th {\n",
       "        vertical-align: top;\n",
       "    }\n",
       "\n",
       "    .dataframe thead th {\n",
       "        text-align: right;\n",
       "    }\n",
       "</style>\n",
       "<table border=\"1\" class=\"dataframe\">\n",
       "  <thead>\n",
       "    <tr style=\"text-align: right;\">\n",
       "      <th></th>\n",
       "      <th>id</th>\n",
       "      <th>popularity</th>\n",
       "      <th>budget</th>\n",
       "      <th>revenue</th>\n",
       "      <th>original_title</th>\n",
       "      <th>director</th>\n",
       "      <th>runtime</th>\n",
       "      <th>genres</th>\n",
       "      <th>release_date</th>\n",
       "      <th>vote_count</th>\n",
       "      <th>vote_average</th>\n",
       "      <th>release_year</th>\n",
       "      <th>profit</th>\n",
       "      <th>month</th>\n",
       "    </tr>\n",
       "  </thead>\n",
       "  <tbody>\n",
       "    <tr>\n",
       "      <th>1151</th>\n",
       "      <td>287524</td>\n",
       "      <td>0.177102</td>\n",
       "      <td>1.0</td>\n",
       "      <td>4.006558e+07</td>\n",
       "      <td>Fear Clinic</td>\n",
       "      <td>Robert Hall</td>\n",
       "      <td>95</td>\n",
       "      <td>Horror</td>\n",
       "      <td>2014-10-31</td>\n",
       "      <td>15</td>\n",
       "      <td>4.1</td>\n",
       "      <td>2014</td>\n",
       "      <td>4.006558e+07</td>\n",
       "      <td>October</td>\n",
       "    </tr>\n",
       "    <tr>\n",
       "      <th>2618</th>\n",
       "      <td>39964</td>\n",
       "      <td>0.090186</td>\n",
       "      <td>1.0</td>\n",
       "      <td>1.000000e+02</td>\n",
       "      <td>Lost &amp; Found</td>\n",
       "      <td>Jeff Pollack</td>\n",
       "      <td>95</td>\n",
       "      <td>Comedy|Romance</td>\n",
       "      <td>1999-04-23</td>\n",
       "      <td>14</td>\n",
       "      <td>4.8</td>\n",
       "      <td>1999</td>\n",
       "      <td>9.900000e+01</td>\n",
       "      <td>April</td>\n",
       "    </tr>\n",
       "    <tr>\n",
       "      <th>3065</th>\n",
       "      <td>12689</td>\n",
       "      <td>0.472691</td>\n",
       "      <td>1.0</td>\n",
       "      <td>4.006558e+07</td>\n",
       "      <td>Angus, Thongs and Perfect Snogging</td>\n",
       "      <td>Gurinder Chadha</td>\n",
       "      <td>100</td>\n",
       "      <td>Comedy|Drama|Family|Romance</td>\n",
       "      <td>2008-07-25</td>\n",
       "      <td>146</td>\n",
       "      <td>6.5</td>\n",
       "      <td>2008</td>\n",
       "      <td>4.006558e+07</td>\n",
       "      <td>July</td>\n",
       "    </tr>\n",
       "    <tr>\n",
       "      <th>3581</th>\n",
       "      <td>59296</td>\n",
       "      <td>0.520430</td>\n",
       "      <td>1.0</td>\n",
       "      <td>1.378000e+03</td>\n",
       "      <td>Love, Wedding, Marriage</td>\n",
       "      <td>Dermot Mulroney</td>\n",
       "      <td>90</td>\n",
       "      <td>Comedy|Romance</td>\n",
       "      <td>2011-06-03</td>\n",
       "      <td>55</td>\n",
       "      <td>5.3</td>\n",
       "      <td>2011</td>\n",
       "      <td>1.377000e+03</td>\n",
       "      <td>June</td>\n",
       "    </tr>\n",
       "    <tr>\n",
       "      <th>8944</th>\n",
       "      <td>14373</td>\n",
       "      <td>0.464188</td>\n",
       "      <td>2.0</td>\n",
       "      <td>1.600000e+01</td>\n",
       "      <td>Death Wish 2</td>\n",
       "      <td>Michael Winner</td>\n",
       "      <td>88</td>\n",
       "      <td>Action|Crime|Thriller</td>\n",
       "      <td>1982-02-20</td>\n",
       "      <td>27</td>\n",
       "      <td>5.6</td>\n",
       "      <td>1982</td>\n",
       "      <td>1.400000e+01</td>\n",
       "      <td>February</td>\n",
       "    </tr>\n",
       "  </tbody>\n",
       "</table>\n",
       "</div>"
      ],
      "text/plain": [
       "          id  popularity  budget       revenue  \\\n",
       "1151  287524    0.177102     1.0  4.006558e+07   \n",
       "2618   39964    0.090186     1.0  1.000000e+02   \n",
       "3065   12689    0.472691     1.0  4.006558e+07   \n",
       "3581   59296    0.520430     1.0  1.378000e+03   \n",
       "8944   14373    0.464188     2.0  1.600000e+01   \n",
       "\n",
       "                          original_title         director  runtime  \\\n",
       "1151                         Fear Clinic      Robert Hall       95   \n",
       "2618                        Lost & Found     Jeff Pollack       95   \n",
       "3065  Angus, Thongs and Perfect Snogging  Gurinder Chadha      100   \n",
       "3581             Love, Wedding, Marriage  Dermot Mulroney       90   \n",
       "8944                        Death Wish 2   Michael Winner       88   \n",
       "\n",
       "                           genres release_date  vote_count  vote_average  \\\n",
       "1151                       Horror   2014-10-31          15           4.1   \n",
       "2618               Comedy|Romance   1999-04-23          14           4.8   \n",
       "3065  Comedy|Drama|Family|Romance   2008-07-25         146           6.5   \n",
       "3581               Comedy|Romance   2011-06-03          55           5.3   \n",
       "8944        Action|Crime|Thriller   1982-02-20          27           5.6   \n",
       "\n",
       "      release_year        profit     month  \n",
       "1151          2014  4.006558e+07   October  \n",
       "2618          1999  9.900000e+01     April  \n",
       "3065          2008  4.006558e+07      July  \n",
       "3581          2011  1.377000e+03      June  \n",
       "8944          1982  1.400000e+01  February  "
      ]
     },
     "execution_count": 28,
     "metadata": {},
     "output_type": "execute_result"
    }
   ],
   "source": [
    "#The smallest budget:\n",
    "df.nsmallest(5, ['budget'])"
   ]
  },
  {
   "cell_type": "code",
   "execution_count": 29,
   "metadata": {},
   "outputs": [
    {
     "data": {
      "text/plain": [
       "Text(0, 0.5, 'Title')"
      ]
     },
     "execution_count": 29,
     "metadata": {},
     "output_type": "execute_result"
    },
    {
     "data": {
      "image/png": "[encoded data removed]",
      "text/plain": [
       "<Figure size 720x360 with 1 Axes>"
      ]
     },
     "metadata": {},
     "output_type": "display_data"
    }
   ],
   "source": [
    "#plot to see the lowest budget \n",
    "cmap = plt.cm.tab10\n",
    "colors = cmap(np.arange(len(df)) % cmap.N)\n",
    "df.nsmallest(5, 'budget').plot.barh(y='budget',x='original_title',color=colors, figsize=(10,5));\n",
    "plt.title(\"budget vs Movie Title\",fontsize = 15)\n",
    "plt.xlabel('budget',fontsize = 10)\n",
    "plt.ylabel('Title',fontsize = 10)"
   ]
  },
  {
   "cell_type": "markdown",
   "metadata": {},
   "source": [
    "#### The largest budget of The Warrior's Wayis movie is 425000000 dollars and shown in column 2244.\n",
    "#### Whereas the smalest budget of movie Fear Clinic, Lost & Found, Angus, Thongs and Perfect Snogging and Love, Wedding, Marriage  are 1 dollars and shown in column 1151, 2618, 3065 and 3581."
   ]
  },
  {
   "cell_type": "markdown",
   "metadata": {},
   "source": [
    "# Question6: Which Movies had longest and shortest runtime values?"
   ]
  },
  {
   "cell_type": "code",
   "execution_count": 31,
   "metadata": {},
   "outputs": [
    {
     "data": {
      "image/png": "[encoded data removed]",
      "text/plain": [
       "<Figure size 720x504 with 1 Axes>"
      ]
     },
     "metadata": {},
     "output_type": "display_data"
    }
   ],
   "source": [
    "##First plot box plot of the runtime to see the summary of statistics (first quartile, median and third quartile):\n",
    "df[\"runtime\"].plot(figsize=(10,7),kind='box',yticks = np.arange(0,950,50));"
   ]
  },
  {
   "cell_type": "markdown",
   "metadata": {},
   "source": [
    "##### A box plot demonstrates how spreaded the distribution will be throughout the movie's runtime.\n",
    "##### Based on the plot, I can conclude that:\n",
    "##### 25% of movies have a runtime less than 90 minutes\n",
    "##### 50% of movies have a runtime less than 100 minutes. (median)\n",
    "##### 75% of movies have a runtime  less than 119 minutes"
   ]
  },
  {
   "cell_type": "code",
   "execution_count": 32,
   "metadata": {},
   "outputs": [
    {
     "data": {
      "text/html": [
       "<div>\n",
       "<style scoped>\n",
       "    .dataframe tbody tr th:only-of-type {\n",
       "        vertical-align: middle;\n",
       "    }\n",
       "\n",
       "    .dataframe tbody tr th {\n",
       "        vertical-align: top;\n",
       "    }\n",
       "\n",
       "    .dataframe thead th {\n",
       "        text-align: right;\n",
       "    }\n",
       "</style>\n",
       "<table border=\"1\" class=\"dataframe\">\n",
       "  <thead>\n",
       "    <tr style=\"text-align: right;\">\n",
       "      <th></th>\n",
       "      <th>id</th>\n",
       "      <th>popularity</th>\n",
       "      <th>budget</th>\n",
       "      <th>revenue</th>\n",
       "      <th>original_title</th>\n",
       "      <th>director</th>\n",
       "      <th>runtime</th>\n",
       "      <th>genres</th>\n",
       "      <th>release_date</th>\n",
       "      <th>vote_count</th>\n",
       "      <th>vote_average</th>\n",
       "      <th>release_year</th>\n",
       "      <th>profit</th>\n",
       "      <th>month</th>\n",
       "    </tr>\n",
       "  </thead>\n",
       "  <tbody>\n",
       "    <tr>\n",
       "      <th>3894</th>\n",
       "      <td>125336</td>\n",
       "      <td>0.006925</td>\n",
       "      <td>1.471114e+07</td>\n",
       "      <td>4.006558e+07</td>\n",
       "      <td>The Story of Film: An Odyssey</td>\n",
       "      <td>Mark Cousins</td>\n",
       "      <td>900</td>\n",
       "      <td>Documentary</td>\n",
       "      <td>2011-09-03</td>\n",
       "      <td>14</td>\n",
       "      <td>9.2</td>\n",
       "      <td>2011</td>\n",
       "      <td>2.535444e+07</td>\n",
       "      <td>September</td>\n",
       "    </tr>\n",
       "    <tr>\n",
       "      <th>4041</th>\n",
       "      <td>150004</td>\n",
       "      <td>0.469332</td>\n",
       "      <td>1.471114e+07</td>\n",
       "      <td>4.006558e+07</td>\n",
       "      <td>Taken</td>\n",
       "      <td>Breck Eisner|FÃ©lix EnrÃ­quez AlcalÃ¡|John Faw...</td>\n",
       "      <td>877</td>\n",
       "      <td>Science Fiction</td>\n",
       "      <td>2002-12-02</td>\n",
       "      <td>38</td>\n",
       "      <td>6.8</td>\n",
       "      <td>2002</td>\n",
       "      <td>2.535444e+07</td>\n",
       "      <td>December</td>\n",
       "    </tr>\n",
       "    <tr>\n",
       "      <th>2722</th>\n",
       "      <td>331214</td>\n",
       "      <td>0.537593</td>\n",
       "      <td>1.471114e+07</td>\n",
       "      <td>1.250000e+08</td>\n",
       "      <td>Band of Brothers</td>\n",
       "      <td>Phil Alden Robinson|Richard Loncraine|Mikael S...</td>\n",
       "      <td>705</td>\n",
       "      <td>Action|Drama|War</td>\n",
       "      <td>2001-09-09</td>\n",
       "      <td>313</td>\n",
       "      <td>8.0</td>\n",
       "      <td>2001</td>\n",
       "      <td>1.102889e+08</td>\n",
       "      <td>September</td>\n",
       "    </tr>\n",
       "    <tr>\n",
       "      <th>6176</th>\n",
       "      <td>42044</td>\n",
       "      <td>0.147489</td>\n",
       "      <td>1.471114e+07</td>\n",
       "      <td>4.006558e+07</td>\n",
       "      <td>Shoah</td>\n",
       "      <td>Claude Lanzmann</td>\n",
       "      <td>566</td>\n",
       "      <td>Documentary</td>\n",
       "      <td>1985-11-01</td>\n",
       "      <td>16</td>\n",
       "      <td>8.3</td>\n",
       "      <td>1985</td>\n",
       "      <td>2.535444e+07</td>\n",
       "      <td>November</td>\n",
       "    </tr>\n",
       "    <tr>\n",
       "      <th>6894</th>\n",
       "      <td>192040</td>\n",
       "      <td>0.137913</td>\n",
       "      <td>1.471114e+07</td>\n",
       "      <td>4.006558e+07</td>\n",
       "      <td>Planet Earth</td>\n",
       "      <td>Alastair Fothergill</td>\n",
       "      <td>550</td>\n",
       "      <td>Documentary</td>\n",
       "      <td>2006-12-10</td>\n",
       "      <td>65</td>\n",
       "      <td>7.6</td>\n",
       "      <td>2006</td>\n",
       "      <td>2.535444e+07</td>\n",
       "      <td>December</td>\n",
       "    </tr>\n",
       "  </tbody>\n",
       "</table>\n",
       "</div>"
      ],
      "text/plain": [
       "          id  popularity        budget       revenue  \\\n",
       "3894  125336    0.006925  1.471114e+07  4.006558e+07   \n",
       "4041  150004    0.469332  1.471114e+07  4.006558e+07   \n",
       "2722  331214    0.537593  1.471114e+07  1.250000e+08   \n",
       "6176   42044    0.147489  1.471114e+07  4.006558e+07   \n",
       "6894  192040    0.137913  1.471114e+07  4.006558e+07   \n",
       "\n",
       "                     original_title  \\\n",
       "3894  The Story of Film: An Odyssey   \n",
       "4041                          Taken   \n",
       "2722               Band of Brothers   \n",
       "6176                          Shoah   \n",
       "6894                   Planet Earth   \n",
       "\n",
       "                                               director  runtime  \\\n",
       "3894                                       Mark Cousins      900   \n",
       "4041  Breck Eisner|FÃ©lix EnrÃ­quez AlcalÃ¡|John Faw...      877   \n",
       "2722  Phil Alden Robinson|Richard Loncraine|Mikael S...      705   \n",
       "6176                                    Claude Lanzmann      566   \n",
       "6894                                Alastair Fothergill      550   \n",
       "\n",
       "                genres release_date  vote_count  vote_average  release_year  \\\n",
       "3894       Documentary   2011-09-03          14           9.2          2011   \n",
       "4041   Science Fiction   2002-12-02          38           6.8          2002   \n",
       "2722  Action|Drama|War   2001-09-09         313           8.0          2001   \n",
       "6176       Documentary   1985-11-01          16           8.3          1985   \n",
       "6894       Documentary   2006-12-10          65           7.6          2006   \n",
       "\n",
       "            profit      month  \n",
       "3894  2.535444e+07  September  \n",
       "4041  2.535444e+07   December  \n",
       "2722  1.102889e+08  September  \n",
       "6176  2.535444e+07   November  \n",
       "6894  2.535444e+07   December  "
      ]
     },
     "execution_count": 32,
     "metadata": {},
     "output_type": "execute_result"
    }
   ],
   "source": [
    "#find the highest runtime:\n",
    "df.nlargest(5, ['runtime'])"
   ]
  },
  {
   "cell_type": "code",
   "execution_count": 33,
   "metadata": {},
   "outputs": [
    {
     "data": {
      "text/html": [
       "<div>\n",
       "<style scoped>\n",
       "    .dataframe tbody tr th:only-of-type {\n",
       "        vertical-align: middle;\n",
       "    }\n",
       "\n",
       "    .dataframe tbody tr th {\n",
       "        vertical-align: top;\n",
       "    }\n",
       "\n",
       "    .dataframe thead th {\n",
       "        text-align: right;\n",
       "    }\n",
       "</style>\n",
       "<table border=\"1\" class=\"dataframe\">\n",
       "  <thead>\n",
       "    <tr style=\"text-align: right;\">\n",
       "      <th></th>\n",
       "      <th>id</th>\n",
       "      <th>popularity</th>\n",
       "      <th>budget</th>\n",
       "      <th>revenue</th>\n",
       "      <th>original_title</th>\n",
       "      <th>director</th>\n",
       "      <th>runtime</th>\n",
       "      <th>genres</th>\n",
       "      <th>release_date</th>\n",
       "      <th>vote_count</th>\n",
       "      <th>vote_average</th>\n",
       "      <th>release_year</th>\n",
       "      <th>profit</th>\n",
       "      <th>month</th>\n",
       "    </tr>\n",
       "  </thead>\n",
       "  <tbody>\n",
       "    <tr>\n",
       "      <th>4883</th>\n",
       "      <td>142563</td>\n",
       "      <td>0.078472</td>\n",
       "      <td>1.471114e+07</td>\n",
       "      <td>4.006558e+07</td>\n",
       "      <td>Fresh Guacamole</td>\n",
       "      <td>PES</td>\n",
       "      <td>2</td>\n",
       "      <td>Animation</td>\n",
       "      <td>2012-03-02</td>\n",
       "      <td>29</td>\n",
       "      <td>7.9</td>\n",
       "      <td>2012</td>\n",
       "      <td>2.535444e+07</td>\n",
       "      <td>March</td>\n",
       "    </tr>\n",
       "    <tr>\n",
       "      <th>7905</th>\n",
       "      <td>13924</td>\n",
       "      <td>0.647261</td>\n",
       "      <td>1.471114e+07</td>\n",
       "      <td>4.006558e+07</td>\n",
       "      <td>The Adventures of AndrÃ© and Wally B.</td>\n",
       "      <td>Alvy Ray Smith</td>\n",
       "      <td>2</td>\n",
       "      <td>Animation</td>\n",
       "      <td>1984-12-17</td>\n",
       "      <td>32</td>\n",
       "      <td>5.3</td>\n",
       "      <td>1984</td>\n",
       "      <td>2.535444e+07</td>\n",
       "      <td>December</td>\n",
       "    </tr>\n",
       "    <tr>\n",
       "      <th>10550</th>\n",
       "      <td>13925</td>\n",
       "      <td>0.306425</td>\n",
       "      <td>1.471114e+07</td>\n",
       "      <td>4.006558e+07</td>\n",
       "      <td>Luxo Jr.</td>\n",
       "      <td>John Lasseter</td>\n",
       "      <td>2</td>\n",
       "      <td>Animation|Family</td>\n",
       "      <td>1986-08-17</td>\n",
       "      <td>81</td>\n",
       "      <td>7.3</td>\n",
       "      <td>1986</td>\n",
       "      <td>2.535444e+07</td>\n",
       "      <td>August</td>\n",
       "    </tr>\n",
       "    <tr>\n",
       "      <th>10754</th>\n",
       "      <td>3171</td>\n",
       "      <td>0.002757</td>\n",
       "      <td>1.471114e+07</td>\n",
       "      <td>4.006558e+07</td>\n",
       "      <td>Bambi Meets Godzilla</td>\n",
       "      <td>Marv Newland</td>\n",
       "      <td>2</td>\n",
       "      <td>Animation|Comedy</td>\n",
       "      <td>2069-01-01</td>\n",
       "      <td>12</td>\n",
       "      <td>5.6</td>\n",
       "      <td>1969</td>\n",
       "      <td>2.535444e+07</td>\n",
       "      <td>January</td>\n",
       "    </tr>\n",
       "    <tr>\n",
       "      <th>1112</th>\n",
       "      <td>264170</td>\n",
       "      <td>0.202776</td>\n",
       "      <td>1.471114e+07</td>\n",
       "      <td>4.006558e+07</td>\n",
       "      <td>Batman: Strange Days</td>\n",
       "      <td>Bruce Timm</td>\n",
       "      <td>3</td>\n",
       "      <td>Action|Animation</td>\n",
       "      <td>2014-04-09</td>\n",
       "      <td>20</td>\n",
       "      <td>7.6</td>\n",
       "      <td>2014</td>\n",
       "      <td>2.535444e+07</td>\n",
       "      <td>April</td>\n",
       "    </tr>\n",
       "  </tbody>\n",
       "</table>\n",
       "</div>"
      ],
      "text/plain": [
       "           id  popularity        budget       revenue  \\\n",
       "4883   142563    0.078472  1.471114e+07  4.006558e+07   \n",
       "7905    13924    0.647261  1.471114e+07  4.006558e+07   \n",
       "10550   13925    0.306425  1.471114e+07  4.006558e+07   \n",
       "10754    3171    0.002757  1.471114e+07  4.006558e+07   \n",
       "1112   264170    0.202776  1.471114e+07  4.006558e+07   \n",
       "\n",
       "                              original_title        director  runtime  \\\n",
       "4883                         Fresh Guacamole             PES        2   \n",
       "7905   The Adventures of AndrÃ© and Wally B.  Alvy Ray Smith        2   \n",
       "10550                               Luxo Jr.   John Lasseter        2   \n",
       "10754                   Bambi Meets Godzilla    Marv Newland        2   \n",
       "1112                    Batman: Strange Days      Bruce Timm        3   \n",
       "\n",
       "                 genres release_date  vote_count  vote_average  release_year  \\\n",
       "4883          Animation   2012-03-02          29           7.9          2012   \n",
       "7905          Animation   1984-12-17          32           5.3          1984   \n",
       "10550  Animation|Family   1986-08-17          81           7.3          1986   \n",
       "10754  Animation|Comedy   2069-01-01          12           5.6          1969   \n",
       "1112   Action|Animation   2014-04-09          20           7.6          2014   \n",
       "\n",
       "             profit     month  \n",
       "4883   2.535444e+07     March  \n",
       "7905   2.535444e+07  December  \n",
       "10550  2.535444e+07    August  \n",
       "10754  2.535444e+07   January  \n",
       "1112   2.535444e+07     April  "
      ]
     },
     "execution_count": 33,
     "metadata": {},
     "output_type": "execute_result"
    }
   ],
   "source": [
    "#find the lowest runtime\n",
    "df.nsmallest(5, ['runtime'])"
   ]
  },
  {
   "cell_type": "markdown",
   "metadata": {},
   "source": [
    "##### The largest runtime is shown in column 3894 by 900 minutes.\n",
    "##### Whereas the smallest runtime is shown in column 4883, 7905, 10550 and 10754 by 2 minutes."
   ]
  },
  {
   "cell_type": "markdown",
   "metadata": {},
   "source": [
    "# Question7: Is Revenue Affected by Popularity, Vote Average, and Runtime?"
   ]
  },
  {
   "cell_type": "code",
   "execution_count": 34,
   "metadata": {},
   "outputs": [
    {
     "data": {
      "text/plain": [
       "0.6350971965285701"
      ]
     },
     "execution_count": 34,
     "metadata": {},
     "output_type": "execute_result"
    }
   ],
   "source": [
    "#first find corolation between Revenue and popularity:\n",
    "\n",
    "df['revenue'].corr(df['popularity'])"
   ]
  },
  {
   "cell_type": "code",
   "execution_count": 35,
   "metadata": {},
   "outputs": [],
   "source": [
    "#make function for a scatter plot:\n",
    "def show_corolation (column_name):\n",
    "    x=df['revenue']\n",
    "    y= df[column_name]\n",
    "    plt.scatter(x, y,c='tab:blue') \n",
    "    plt.title('Revenue VS {}'.format(column_name))\n",
    "    plt.xlabel('revenue')\n",
    "    plt.ylabel(column_name)\n",
    "    plt.plot(np.unique(x), np.poly1d(np.polyfit(x, y, 1))(np.unique(x)), color='k')\n",
    "    plt.show()"
   ]
  },
  {
   "cell_type": "code",
   "execution_count": 36,
   "metadata": {},
   "outputs": [
    {
     "data": {
      "image/png": "[encoded data removed]",
      "text/plain": [
       "<Figure size 432x288 with 1 Axes>"
      ]
     },
     "metadata": {},
     "output_type": "display_data"
    }
   ],
   "source": [
    "show_corolation('popularity')"
   ]
  },
  {
   "cell_type": "code",
   "execution_count": 37,
   "metadata": {},
   "outputs": [
    {
     "data": {
      "text/plain": [
       "0.15353610013006927"
      ]
     },
     "execution_count": 37,
     "metadata": {},
     "output_type": "execute_result"
    }
   ],
   "source": [
    "#second find corolation between Revenue and Average vote:\n",
    "df['revenue'].corr(df['vote_average'])"
   ]
  },
  {
   "cell_type": "code",
   "execution_count": 38,
   "metadata": {},
   "outputs": [
    {
     "data": {
      "image/png": "[encoded data removed]",
      "text/plain": [
       "<Figure size 432x288 with 1 Axes>"
      ]
     },
     "metadata": {},
     "output_type": "display_data"
    }
   ],
   "source": [
    "##plot a scatter plot:\n",
    "show_corolation('vote_average')"
   ]
  },
  {
   "cell_type": "code",
   "execution_count": 39,
   "metadata": {},
   "outputs": [
    {
     "data": {
      "text/plain": [
       "0.14423586522555767"
      ]
     },
     "execution_count": 39,
     "metadata": {},
     "output_type": "execute_result"
    }
   ],
   "source": [
    "#Third find corolation between Revenue and Runtime\n",
    "df['revenue'].corr(df['runtime'])"
   ]
  },
  {
   "cell_type": "code",
   "execution_count": 40,
   "metadata": {},
   "outputs": [
    {
     "data": {
      "image/png": "[encoded data removed]",
      "text/plain": [
       "<Figure size 432x288 with 1 Axes>"
      ]
     },
     "metadata": {},
     "output_type": "display_data"
    }
   ],
   "source": [
    "#plot a scatter plot:\n",
    "show_corolation('runtime')"
   ]
  },
  {
   "cell_type": "markdown",
   "metadata": {},
   "source": [
    "# Conclusions:"
   ]
  },
  {
   "cell_type": "markdown",
   "metadata": {},
   "source": [
    "1. Drama (4746) and Comedy (3772) appear to be the most popular genres, then came Thrillers (2902).\n",
    "2. Maximum Number Of Movies Release in the year 2014. While September and October have the highest months of releases.\n",
    "3. For earning more profit, June, May, September and December are the best months to release movies.\n",
    "4. The largest revenue comes from Avatar movie while the lowest revenue earned from Shattered Glass and Mallrats movies.\n",
    "5. The movie with the highest budget is The Warrior's Way while the movie with the lowest budget Fear Clinic, Lost & Found, Angus, Thongs and Perfect Snogging and Love, Wedding, Marriage\n",
    "6. The largest movie runtime is  900 minutes Whereas the smallest movie runtime is 2 minutes.\n",
    "7. \n",
    "* The revenue is increasing with popularity. I can say that popularity is highly correlated with revenue by Correlation = 0.6350.\n",
    "* The correlation between revenue and the vote average is 0.1535. Therefore, vote average is not highly correlated with revenue.\n",
    "* The correlation between revenue and the runtime is 0.1442. Therefore, runtime is not highly correlated with revenue.\n"
   ]
  },
  {
   "cell_type": "markdown",
   "metadata": {},
   "source": [
    "# Limitations:"
   ]
  },
  {
   "cell_type": "markdown",
   "metadata": {},
   "source": [
    "* There are no currency units in the budget and revenue columns, so it is possible that budgets are in different currencies depending on where a film was produced.\n",
    "* Due to some zeros on budget and revenue, I had to substitute with averages which may affect the analysis.\n",
    "* Although some columns have missing values, I did not need them in my analysis, so I dropped them.\n",
    "* The number of votes for each movie was different. So, movies with fewer votes or higher votes wouldn't be accurate."
   ]
  },
  {
   "cell_type": "code",
   "execution_count": null,
   "metadata": {},
   "outputs": [],
   "source": []
  }
 ],
 "metadata": {
  "kernelspec": {
   "display_name": "Python 3",
   "language": "python",
   "name": "python3"
  },
  "language_info": {
   "codemirror_mode": {
    "name": "ipython",
    "version": 3
   },
   "file_extension": ".py",
   "mimetype": "text/x-python",
   "name": "python",
   "nbconvert_exporter": "python",
   "pygments_lexer": "ipython3",
   "version": "3.8.5"
  }
 },
 "nbformat": 4,
 "nbformat_minor": 4
}
